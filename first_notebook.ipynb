{
 "cells": [
  {
   "cell_type": "markdown",
   "id": "c0b56864",
   "metadata": {},
   "source": [
    "# Covid 19 Dataset"
   ]
  },
  {
   "cell_type": "code",
   "execution_count": 12,
   "id": "7c3445c1",
   "metadata": {},
   "outputs": [],
   "source": [
    "import pandas as pd\n",
    "import numpy as np\n",
    "from sklearn.preprocessing import MinMaxScaler"
   ]
  },
  {
   "cell_type": "markdown",
   "id": "4a5cd864",
   "metadata": {},
   "source": [
    "## Acquire"
   ]
  },
  {
   "cell_type": "code",
   "execution_count": 2,
   "id": "e9dbbc61",
   "metadata": {},
   "outputs": [],
   "source": [
    "df = pd.read_csv(r'/Users/malachihale/codeup-data-science/covid-19-data/covid_data_log_200922.csv')"
   ]
  },
  {
   "cell_type": "code",
   "execution_count": 3,
   "id": "a478d94c",
   "metadata": {},
   "outputs": [
    {
     "data": {
      "text/html": [
       "<div>\n",
       "<style scoped>\n",
       "    .dataframe tbody tr th:only-of-type {\n",
       "        vertical-align: middle;\n",
       "    }\n",
       "\n",
       "    .dataframe tbody tr th {\n",
       "        vertical-align: top;\n",
       "    }\n",
       "\n",
       "    .dataframe thead th {\n",
       "        text-align: right;\n",
       "    }\n",
       "</style>\n",
       "<table border=\"1\" class=\"dataframe\">\n",
       "  <thead>\n",
       "    <tr style=\"text-align: right;\">\n",
       "      <th></th>\n",
       "      <th>FIPS</th>\n",
       "      <th>stateFIPS</th>\n",
       "      <th>countyFIPS_2d</th>\n",
       "      <th>County</th>\n",
       "      <th>State</th>\n",
       "      <th>Cases</th>\n",
       "      <th>Deaths</th>\n",
       "      <th>Poverty</th>\n",
       "      <th>Population</th>\n",
       "      <th>W_Male</th>\n",
       "      <th>...</th>\n",
       "      <th>H_Male</th>\n",
       "      <th>H_Female</th>\n",
       "      <th>I_Male</th>\n",
       "      <th>I_Female</th>\n",
       "      <th>A_Male</th>\n",
       "      <th>A_Female</th>\n",
       "      <th>NH_Male</th>\n",
       "      <th>NH_Female</th>\n",
       "      <th>Risk_Index</th>\n",
       "      <th>Risk_Cat</th>\n",
       "    </tr>\n",
       "  </thead>\n",
       "  <tbody>\n",
       "    <tr>\n",
       "      <th>0</th>\n",
       "      <td>1001</td>\n",
       "      <td>1</td>\n",
       "      <td>1</td>\n",
       "      <td>Autauga County</td>\n",
       "      <td>AL</td>\n",
       "      <td>10.590264</td>\n",
       "      <td>6.812345</td>\n",
       "      <td>10.916415</td>\n",
       "      <td>10.930765</td>\n",
       "      <td>10.651360</td>\n",
       "      <td>...</td>\n",
       "      <td>7.903227</td>\n",
       "      <td>7.787797</td>\n",
       "      <td>5.978886</td>\n",
       "      <td>6.100319</td>\n",
       "      <td>6.588926</td>\n",
       "      <td>6.778785</td>\n",
       "      <td>4.465908</td>\n",
       "      <td>4.317488</td>\n",
       "      <td>65.42</td>\n",
       "      <td>Above Average</td>\n",
       "    </tr>\n",
       "    <tr>\n",
       "      <th>1</th>\n",
       "      <td>1003</td>\n",
       "      <td>1</td>\n",
       "      <td>3</td>\n",
       "      <td>Baldwin County</td>\n",
       "      <td>AL</td>\n",
       "      <td>11.251171</td>\n",
       "      <td>6.864848</td>\n",
       "      <td>12.279579</td>\n",
       "      <td>12.315976</td>\n",
       "      <td>12.162852</td>\n",
       "      <td>...</td>\n",
       "      <td>9.734477</td>\n",
       "      <td>9.629182</td>\n",
       "      <td>7.908755</td>\n",
       "      <td>7.872455</td>\n",
       "      <td>7.756623</td>\n",
       "      <td>8.129764</td>\n",
       "      <td>5.537334</td>\n",
       "      <td>5.587249</td>\n",
       "      <td>68.39</td>\n",
       "      <td>Above Average</td>\n",
       "    </tr>\n",
       "    <tr>\n",
       "      <th>2</th>\n",
       "      <td>1005</td>\n",
       "      <td>1</td>\n",
       "      <td>5</td>\n",
       "      <td>Barbour County</td>\n",
       "      <td>AL</td>\n",
       "      <td>10.111517</td>\n",
       "      <td>5.043425</td>\n",
       "      <td>9.997843</td>\n",
       "      <td>10.113992</td>\n",
       "      <td>9.465448</td>\n",
       "      <td>...</td>\n",
       "      <td>7.552762</td>\n",
       "      <td>7.291656</td>\n",
       "      <td>5.652489</td>\n",
       "      <td>5.204007</td>\n",
       "      <td>4.844187</td>\n",
       "      <td>4.948760</td>\n",
       "      <td>4.276666</td>\n",
       "      <td>3.713572</td>\n",
       "      <td>97.09</td>\n",
       "      <td>High</td>\n",
       "    </tr>\n",
       "    <tr>\n",
       "      <th>3</th>\n",
       "      <td>1007</td>\n",
       "      <td>1</td>\n",
       "      <td>7</td>\n",
       "      <td>Bibb County</td>\n",
       "      <td>AL</td>\n",
       "      <td>9.520469</td>\n",
       "      <td>4.634729</td>\n",
       "      <td>9.914032</td>\n",
       "      <td>10.016548</td>\n",
       "      <td>9.777641</td>\n",
       "      <td>...</td>\n",
       "      <td>6.944087</td>\n",
       "      <td>6.746412</td>\n",
       "      <td>5.068904</td>\n",
       "      <td>5.017280</td>\n",
       "      <td>4.276666</td>\n",
       "      <td>4.290459</td>\n",
       "      <td>3.912023</td>\n",
       "      <td>2.772589</td>\n",
       "      <td>83.36</td>\n",
       "      <td>Above Average</td>\n",
       "    </tr>\n",
       "    <tr>\n",
       "      <th>4</th>\n",
       "      <td>1009</td>\n",
       "      <td>1</td>\n",
       "      <td>9</td>\n",
       "      <td>Blount County</td>\n",
       "      <td>AL</td>\n",
       "      <td>9.868430</td>\n",
       "      <td>4.406719</td>\n",
       "      <td>10.954973</td>\n",
       "      <td>10.965194</td>\n",
       "      <td>10.912649</td>\n",
       "      <td>...</td>\n",
       "      <td>9.092570</td>\n",
       "      <td>8.980424</td>\n",
       "      <td>6.383507</td>\n",
       "      <td>6.393591</td>\n",
       "      <td>5.446737</td>\n",
       "      <td>5.579730</td>\n",
       "      <td>4.624973</td>\n",
       "      <td>4.127134</td>\n",
       "      <td>81.75</td>\n",
       "      <td>Above Average</td>\n",
       "    </tr>\n",
       "  </tbody>\n",
       "</table>\n",
       "<p>5 rows × 23 columns</p>\n",
       "</div>"
      ],
      "text/plain": [
       "   FIPS  stateFIPS  countyFIPS_2d          County State      Cases    Deaths  \\\n",
       "0  1001          1              1  Autauga County    AL  10.590264  6.812345   \n",
       "1  1003          1              3  Baldwin County    AL  11.251171  6.864848   \n",
       "2  1005          1              5  Barbour County    AL  10.111517  5.043425   \n",
       "3  1007          1              7     Bibb County    AL   9.520469  4.634729   \n",
       "4  1009          1              9   Blount County    AL   9.868430  4.406719   \n",
       "\n",
       "     Poverty  Population     W_Male  ...    H_Male  H_Female    I_Male  \\\n",
       "0  10.916415   10.930765  10.651360  ...  7.903227  7.787797  5.978886   \n",
       "1  12.279579   12.315976  12.162852  ...  9.734477  9.629182  7.908755   \n",
       "2   9.997843   10.113992   9.465448  ...  7.552762  7.291656  5.652489   \n",
       "3   9.914032   10.016548   9.777641  ...  6.944087  6.746412  5.068904   \n",
       "4  10.954973   10.965194  10.912649  ...  9.092570  8.980424  6.383507   \n",
       "\n",
       "   I_Female    A_Male  A_Female   NH_Male  NH_Female  Risk_Index  \\\n",
       "0  6.100319  6.588926  6.778785  4.465908   4.317488       65.42   \n",
       "1  7.872455  7.756623  8.129764  5.537334   5.587249       68.39   \n",
       "2  5.204007  4.844187  4.948760  4.276666   3.713572       97.09   \n",
       "3  5.017280  4.276666  4.290459  3.912023   2.772589       83.36   \n",
       "4  6.393591  5.446737  5.579730  4.624973   4.127134       81.75   \n",
       "\n",
       "        Risk_Cat  \n",
       "0  Above Average  \n",
       "1  Above Average  \n",
       "2           High  \n",
       "3  Above Average  \n",
       "4  Above Average  \n",
       "\n",
       "[5 rows x 23 columns]"
      ]
     },
     "execution_count": 3,
     "metadata": {},
     "output_type": "execute_result"
    }
   ],
   "source": [
    "df.head()"
   ]
  },
  {
   "cell_type": "markdown",
   "id": "671d12a4",
   "metadata": {},
   "source": [
    "## Prepare"
   ]
  },
  {
   "cell_type": "code",
   "execution_count": 11,
   "id": "718c1094",
   "metadata": {},
   "outputs": [
    {
     "data": {
      "text/plain": [
       "Index(['FIPS', 'stateFIPS', 'countyFIPS_2d', 'County', 'State', 'Cases',\n",
       "       'Deaths', 'Poverty', 'Population', 'W_Male', 'W_Female', 'B_Male',\n",
       "       'B_Female', 'H_Male', 'H_Female', 'I_Male', 'I_Female', 'A_Male',\n",
       "       'A_Female', 'NH_Male', 'NH_Female', 'Risk_Index', 'Risk_Cat'],\n",
       "      dtype='object')"
      ]
     },
     "execution_count": 11,
     "metadata": {},
     "output_type": "execute_result"
    }
   ],
   "source": [
    "df.columns"
   ]
  },
  {
   "cell_type": "code",
   "execution_count": 10,
   "id": "8258fdc6",
   "metadata": {
    "scrolled": false
   },
   "outputs": [
    {
     "name": "stdout",
     "output_type": "stream",
     "text": [
      "False\n",
      "False\n",
      "False\n",
      "False\n",
      "False\n",
      "False\n",
      "False\n",
      "False\n",
      "False\n",
      "False\n",
      "False\n",
      "False\n",
      "False\n",
      "False\n",
      "False\n",
      "False\n",
      "False\n",
      "False\n",
      "False\n",
      "False\n",
      "False\n",
      "False\n",
      "False\n"
     ]
    }
   ],
   "source": [
    "for col in df.columns:\n",
    "    print(df[col].isnull().values.any())"
   ]
  },
  {
   "cell_type": "markdown",
   "id": "09969a96",
   "metadata": {},
   "source": [
    "The DataFrame contains no null values. "
   ]
  },
  {
   "cell_type": "code",
   "execution_count": 13,
   "id": "dcf54e32",
   "metadata": {},
   "outputs": [],
   "source": [
    "scaler = MinMaxScaler()"
   ]
  },
  {
   "cell_type": "code",
   "execution_count": 14,
   "id": "99eff9e9",
   "metadata": {},
   "outputs": [],
   "source": [
    "X =  df[['Poverty', 'Population', 'W_Male', 'W_Female', 'B_Male',\n",
    "       'B_Female', 'H_Male', 'H_Female', 'I_Male', 'I_Female', 'A_Male',\n",
    "       'A_Female', 'NH_Male', 'NH_Female']]"
   ]
  },
  {
   "cell_type": "code",
   "execution_count": 15,
   "id": "e77aeb83",
   "metadata": {},
   "outputs": [
    {
     "data": {
      "text/plain": [
       "MinMaxScaler()"
      ]
     },
     "execution_count": 15,
     "metadata": {},
     "output_type": "execute_result"
    }
   ],
   "source": [
    "scaler.fit(X)"
   ]
  },
  {
   "cell_type": "code",
   "execution_count": 16,
   "id": "5eec1bc6",
   "metadata": {},
   "outputs": [],
   "source": [
    "X_scaled = scaler.transform(X)"
   ]
  },
  {
   "cell_type": "code",
   "execution_count": null,
   "id": "2795cdca",
   "metadata": {},
   "outputs": [],
   "source": []
  }
 ],
 "metadata": {
  "kernelspec": {
   "display_name": "Python 3",
   "language": "python",
   "name": "python3"
  },
  "language_info": {
   "codemirror_mode": {
    "name": "ipython",
    "version": 3
   },
   "file_extension": ".py",
   "mimetype": "text/x-python",
   "name": "python",
   "nbconvert_exporter": "python",
   "pygments_lexer": "ipython3",
   "version": "3.8.8"
  }
 },
 "nbformat": 4,
 "nbformat_minor": 5
}
